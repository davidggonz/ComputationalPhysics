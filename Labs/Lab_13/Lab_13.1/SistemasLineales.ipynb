{
 "cells": [
  {
   "cell_type": "markdown",
   "metadata": {},
   "source": [
    "# Sistemas de Ecuaciones Lineales\n",
    "\n",
    "Los sistemas de ecuaciones lineales son de suma importancia en las ciencias básicas, con aplicaciones en todas las ramas de la Física.\n",
    "\n",
    "Con excepción de algunos casos puntuales, los sistemas de ecuaciones lineales son resueltos usualmente de forma numérica. Un ejemplo importante de sistemas de ecuaciones lineales corresponde a resolver ecuaciones diferenciales parciales bajo un método de discretización numérico.\n",
    "\n",
    "Vamos a estudiar sistemas de la forma\n",
    "$$\n",
    "Ax = v,\n",
    "$$\n",
    "donde $A$ es una matrix que puede representar un operador diferencia o en general un conjunto de ecuaciones y queremos resolver el sistema para el vector $x$ con base en la solución $b$"
   ]
  },
  {
   "cell_type": "markdown",
   "metadata": {},
   "source": [
    "## Algoritmo de eliminación de Gauss\n",
    "\n",
    "El método más fundamental para resolver este tipo de ecuaciones es el método de Gauss.\n",
    "\n",
    "* En la mayoría de los casos, trabaja de forma correcta\n",
    "* Usualmente muy lento para ser útil en sistemas de un número grande de ecuaciones\n",
    "\n",
    "Veamos el siguiente ejemplo:\n",
    "$$A =\n",
    "\\begin{bmatrix}\n",
    "6 & 5 \\\\\n",
    "4 & 3\n",
    "\\end{bmatrix}, \\qquad v = \\binom{2}{1}.\n",
    "$$ \n",
    "El problema a resolver, por ende, es\n",
    "$$\\begin{bmatrix}\n",
    "6 & 5 \\\\\n",
    "4 & 3\n",
    "\\end{bmatrix}\\binom{x_1}{x_2} = \\binom{2}{1}.\n",
    "$$ \n",
    "Por lo tanto,\n",
    "$$6x_1 + 5x_2 = 2,$$\n",
    "$$4x_1 + 3x_2 = 1.$$\n",
    "El método clásico se basa en \n",
    "1. Dividir la primera línea por el primer coeficiente:\n",
    "$$x_1 + \\frac{5}{6}x_2 = \\frac{1}{3},$$\n",
    "$$4x_1 + 3x_2 = 1$$\n",
    "2. Hacer $4\\times \\text{1era ec.} - \\text{2da ec.} = \\text{nueva 2da ec.}$:\n",
    "$$x_1 + \\frac56x_2 = \\frac13,$$\n",
    "$$0x_1 + \\frac13x_2 = \\frac13,$$\n",
    "lo cual implica $x_2=1$.\n",
    "Más ecuaciones $\\Rightarrow$ cancelar todos los primeros coeficientes de cada línea de manera equivalente.\n",
    "3. Si hay más ecuaciones: se repite desde la segunda línea para eliminar todos los segundos coeficientes hacia abajo y se repite el proceso\n",
    "4. Se utiliza sustitución hacia atrás: $x_2=1 \\Rightarrow x_1 + 5/6 = 1/3 \\Rightarrow x_1 = -1/2$.\n",
    "\n",
    "## Implementación en `Python`\n",
    "\n",
    "Este algoritmo se puede implementar en `Python` de la siguiente forma:"
   ]
  },
  {
   "cell_type": "code",
   "execution_count": 1,
   "metadata": {},
   "outputs": [],
   "source": [
    "import numpy as np\n",
    "\n",
    "def gausselim(A, v):\n",
    "    N = len(v)\n",
    "    # Eliminación Gaussiana\n",
    "    for m in range(N): #Numero de filas\n",
    "        # Dividimos por el elemento en la diagonal\n",
    "        div = A[m, m]\n",
    "        A[m, :] /= div #Dividimos toda la fila\n",
    "        v[m] /= div #Dividimos todo el vector\n",
    "        # Y ahora sustraemos de las ecuaciones hacia abajo\n",
    "        for i in range(m+1, N):\n",
    "            mult = A[i, m]\n",
    "            A[i, :] -= mult*A[m, :]\n",
    "            v[i] -= mult*v[m]\n",
    "            #Nos da una matriz triangular superior\n",
    "    # Sustitución hacia atrás\n",
    "    x = np.zeros(N, float)\n",
    "    for m in range(N-1, -1, -1):\n",
    "        x[m] = v[m]\n",
    "        for i in range(m+1, N):\n",
    "            x[m] -= A[m, i]*x[i]\n",
    "    \n",
    "    return x"
   ]
  },
  {
   "cell_type": "markdown",
   "metadata": {},
   "source": [
    "Utilicemos el código para nuestro ejemplo de arriba:"
   ]
  },
  {
   "cell_type": "code",
   "execution_count": 2,
   "metadata": {},
   "outputs": [
    {
     "data": {
      "text/plain": [
       "array([-0.5,  1. ])"
      ]
     },
     "execution_count": 2,
     "metadata": {},
     "output_type": "execute_result"
    }
   ],
   "source": [
    "A1 = np.array([[6, 5], [4, 3]], float)  \n",
    "V1 = np.array([2, 1], float)\n",
    "\n",
    "gausselim(A1, V1)"
   ]
  },
  {
   "cell_type": "markdown",
   "metadata": {},
   "source": [
    "## Limitación de la eliminación de Gauss\n",
    "\n",
    "El siguiente es un problema válido, sin embargo, hace que nuestro algoritmo no trabaje de manera correcta:\n",
    "$$A =\n",
    "\\begin{bmatrix}\n",
    "10^{-20} & 1 \\\\\n",
    "1 & 1\n",
    "\\end{bmatrix}, \\qquad v = \\binom{1}{0}.$$\n",
    "En teoría, $\\displaystyle x \\approx \\binom{-1}{1}$. De acuerdo con nuestra rutina `gausselim`:"
   ]
  },
  {
   "cell_type": "code",
   "execution_count": 3,
   "metadata": {},
   "outputs": [
    {
     "data": {
      "text/plain": [
       "array([0., 1.])"
      ]
     },
     "execution_count": 3,
     "metadata": {},
     "output_type": "execute_result"
    }
   ],
   "source": [
    "A2 = np.array([[1e-20, 1], [1, 1]], float)\n",
    "V2 = np.array([1, 0], float)\n",
    "\n",
    "gausselim(A2, V2)"
   ]
  },
  {
   "cell_type": "markdown",
   "metadata": {},
   "source": [
    "El problema es que tenemos un elemento diagonal muy cercano a cero! Con un valor de `0` en la diagonal, `Python` nos devuelve un error `ZeroDivisionError`.\n",
    "En este caso, no tenemos ese error pero incurrimos en un error de redondeo muy grande.\n",
    "\n",
    "Curiosamente, la rutina `numpy.linalg.solve` también devuelve el mismo resultado incorrecto!"
   ]
  },
  {
   "cell_type": "code",
   "execution_count": 4,
   "metadata": {},
   "outputs": [
    {
     "data": {
      "text/plain": [
       "array([0., 1.])"
      ]
     },
     "execution_count": 4,
     "metadata": {},
     "output_type": "execute_result"
    }
   ],
   "source": [
    "np.linalg.solve(A2, V2)"
   ]
  },
  {
   "cell_type": "markdown",
   "metadata": {},
   "source": [
    "`SciPy` no nos devuelve un resultado correcto, pero al menos nos entrega una advertencia."
   ]
  },
  {
   "cell_type": "code",
   "execution_count": 5,
   "metadata": {},
   "outputs": [
    {
     "name": "stderr",
     "output_type": "stream",
     "text": [
      "/var/folders/d6/v8z34bj13fdggmr0nh4l48tw0000gn/T/ipykernel_19293/1548001281.py:3: LinAlgWarning: Ill-conditioned matrix (rcond=1e-40): result may not be accurate.\n",
      "  la.solve(A2, V2)\n"
     ]
    },
    {
     "data": {
      "text/plain": [
       "array([0., 1.])"
      ]
     },
     "execution_count": 5,
     "metadata": {},
     "output_type": "execute_result"
    }
   ],
   "source": [
    "import scipy.linalg as la\n",
    "\n",
    "la.solve(A2, V2)"
   ]
  },
  {
   "cell_type": "markdown",
   "metadata": {},
   "source": [
    "## Pivoteo parcial\n",
    "\n",
    "La metodología para resolver posibles divisiones entre cero o números muy cercanos a cero se llama **pivoteo parcial**. El algoritmo funciona de la siguiente forma:\n",
    "1. En la fila $m$, evaluar cúal de las filas de abajo tiene el elemento $m$ mayor (en valor absoluto)\n",
    "* Intercambiar esta fila con la fila del valor de $m$ en la iteración actual\n",
    "* Proceder con eliminación Gaussiana\n",
    "\n",
    "Veamos como se puede hacer esto en nuestro ejemplo. En este caso, solo tenemos dos filas para intercambiar, sin embargo, el procedimiento se puede hacer iterativamente para sistemas de más ecuaciones."
   ]
  },
  {
   "cell_type": "code",
   "execution_count": 6,
   "metadata": {},
   "outputs": [
    {
     "data": {
      "text/plain": [
       "array([-1.,  1.])"
      ]
     },
     "execution_count": 6,
     "metadata": {},
     "output_type": "execute_result"
    }
   ],
   "source": [
    "A3 = np.array([[1, 1], [1e-20, 1]], float)  # Filas intercambiadas\n",
    "V3 = np.array([0, 1], float)  # Necesitamos intercambiar estas filas también\n",
    "\n",
    "gausselim(A3, V3)"
   ]
  },
  {
   "cell_type": "markdown",
   "metadata": {},
   "source": [
    "# Descomposición matricial: Descomposición LU\n",
    "\n",
    "Supongamos que tenemos un sistema $Ax= f$, donde $f$ depende de cierto parámetro o parámetros en un problema físico. Cuando cambiamos dicho parámetro, $f$ también cambia pero $A$ se mantiene constante. \n",
    "\n",
    "No queremos volver a evaluar todo el algoritmo de eliminación Gaussiana cada vez que cambiamos dicho parámetro. \n",
    "\n",
    "Los pasos de la emilinación Gaussiana siempre son los mismos así que se pueden realizar solo una vez y guardar el resultado. \n",
    "\n",
    "La eliminación Gaussiana de una matrix $A$ se puede expresar como una serie de multiplicaciones de matriz tal que $U = L_nL_{n-1}\\cdots L_0A$ donde $U$ es **triangular superior** (i.e., el resultado de la eliminación Gaussiana):\n",
    "$$\n",
    "L^{-1} = L_n L_{n-1} \\cdots L_0 \\Rightarrow\\ Ax =  LUx = f.\n",
    "$$\n",
    "La descomposición \n",
    "$$\\boxed{LU = A}$$\n",
    "se conoce como \"descomposición LU\" de la matrix $A$. La matrix $L$ es **triangular inferior**.\n",
    "\n",
    "### Cómo se utiliza la descomposición LU en práctica?\n",
    "\n",
    "* Supongamos que conocemos $L$ y $U$ después de descomponer $A$\n",
    "* Con base en esta descomposición\n",
    "$$Ax=f \\Leftrightarrow Ux=L^{-1}f.$$\n",
    "* Ahora tenemos **dos problemas de matrices triangulares: $Ux = y$ y $Ly = f$**.\n",
    "* Dado que las matrices son triangulares, la sustitución hacia atrás es trivial!\n",
    "* Este es el método utilizado en `numpy.linalg.solve(A, f)`\n",
    "* `scipy.linalg.lu_solve(scipy.linalg.lu_factor(A), f)` es equivalente a `numpy.linalg.solve(A, f)`, sin embargo, `SciPy` nos da acceso a los pasos intermedios para hacer la descomposición de la matriz\n",
    "* Una vez que se conoce la descomposición LU de la matriz $A$, no se necesita hacer de nuevo dado que podemos cambiar $f$ y solo tenemos que resolver el sistema triangular $Ly=f$ y $Ux=y$, los cuales son muy sencillos de resolver con la estructura triangular\n",
    "\n",
    "### Limitaciones de la descomposición LU\n",
    "\n",
    "La descompocisión LU falla cuando $A$ es singular o muy cercana a ser singular, como consecuencia de errores de redondeo. Una matriz $A$ es singular si su determinante $|A| = 0$, tal que $A^{-1}$ no puede ser definida ($A$ no es invertible).\n",
    "\n",
    "Consideremos un ejemplo de una matrix singular:\n",
    "$$A = \n",
    "\\begin{bmatrix}\n",
    "    1 & 2 \\\\ 2 & 4\n",
    "\\end{bmatrix}$$\n",
    "Dependiendo del lado derecho del sistema de ecuaciones lineales, podemos encontrar que el sistema no tiene solución o alguno de los coeficientes no puede ser determinado.\n",
    "\n",
    "Por ejemplo:\n",
    "* $A\\binom{x_1}{x_2} = \\binom{3}{5}\\rightarrow $ no podemos tener $x_1 + 2x_2 = 3$ y $= 5/2$ al mismo tiempo.\n",
    "\n",
    "* $A\\binom{x_1}{x_2} = \\binom{3}{6}\\rightarrow$ un número infinito de soluciones.\n",
    "\n",
    "La descomposición LU no puede encontrar una solución cuando la solución no existe. Esto es de esperar, pero si la matriz no es singular si no muy cercana a ser singular, el método computacional también puede fallar. Consideremos\n",
    "$$A = \n",
    "\\begin{bmatrix}\n",
    "    1 & 2 \\\\ 2 & 4+\\delta\n",
    "\\end{bmatrix},$$\n",
    "con $\\delta$ muy pequeño comparado al resto de los coeficientes. La matriz no es singular pero la descomposición LU falla si $\\delta$ es muy pequeño."
   ]
  },
  {
   "cell_type": "code",
   "execution_count": 7,
   "metadata": {},
   "outputs": [
    {
     "name": "stdout",
     "output_type": "stream",
     "text": [
      "[[1. 2.]\n",
      " [2. 4.]]\n"
     ]
    },
    {
     "ename": "LinAlgError",
     "evalue": "Singular matrix",
     "output_type": "error",
     "traceback": [
      "\u001b[0;31m---------------------------------------------------------------------------\u001b[0m",
      "\u001b[0;31mLinAlgError\u001b[0m                               Traceback (most recent call last)",
      "Cell \u001b[0;32mIn [7], line 5\u001b[0m\n\u001b[1;32m      3\u001b[0m \u001b[38;5;28mprint\u001b[39m(A)\n\u001b[1;32m      4\u001b[0m v \u001b[38;5;241m=\u001b[39m np\u001b[38;5;241m.\u001b[39marray([\u001b[38;5;241m3\u001b[39m, \u001b[38;5;241m5\u001b[39m], \u001b[38;5;28mfloat\u001b[39m)\n\u001b[0;32m----> 5\u001b[0m \u001b[43mnp\u001b[49m\u001b[38;5;241;43m.\u001b[39;49m\u001b[43mlinalg\u001b[49m\u001b[38;5;241;43m.\u001b[39;49m\u001b[43msolve\u001b[49m\u001b[43m(\u001b[49m\u001b[43mA\u001b[49m\u001b[43m,\u001b[49m\u001b[43m \u001b[49m\u001b[43mv\u001b[49m\u001b[43m)\u001b[49m\n",
      "File \u001b[0;32m<__array_function__ internals>:180\u001b[0m, in \u001b[0;36msolve\u001b[0;34m(*args, **kwargs)\u001b[0m\n",
      "File \u001b[0;32m/opt/homebrew/lib/python3.9/site-packages/numpy/linalg/linalg.py:400\u001b[0m, in \u001b[0;36msolve\u001b[0;34m(a, b)\u001b[0m\n\u001b[1;32m    398\u001b[0m signature \u001b[38;5;241m=\u001b[39m \u001b[38;5;124m'\u001b[39m\u001b[38;5;124mDD->D\u001b[39m\u001b[38;5;124m'\u001b[39m \u001b[38;5;28;01mif\u001b[39;00m isComplexType(t) \u001b[38;5;28;01melse\u001b[39;00m \u001b[38;5;124m'\u001b[39m\u001b[38;5;124mdd->d\u001b[39m\u001b[38;5;124m'\u001b[39m\n\u001b[1;32m    399\u001b[0m extobj \u001b[38;5;241m=\u001b[39m get_linalg_error_extobj(_raise_linalgerror_singular)\n\u001b[0;32m--> 400\u001b[0m r \u001b[38;5;241m=\u001b[39m \u001b[43mgufunc\u001b[49m\u001b[43m(\u001b[49m\u001b[43ma\u001b[49m\u001b[43m,\u001b[49m\u001b[43m \u001b[49m\u001b[43mb\u001b[49m\u001b[43m,\u001b[49m\u001b[43m \u001b[49m\u001b[43msignature\u001b[49m\u001b[38;5;241;43m=\u001b[39;49m\u001b[43msignature\u001b[49m\u001b[43m,\u001b[49m\u001b[43m \u001b[49m\u001b[43mextobj\u001b[49m\u001b[38;5;241;43m=\u001b[39;49m\u001b[43mextobj\u001b[49m\u001b[43m)\u001b[49m\n\u001b[1;32m    402\u001b[0m \u001b[38;5;28;01mreturn\u001b[39;00m wrap(r\u001b[38;5;241m.\u001b[39mastype(result_t, copy\u001b[38;5;241m=\u001b[39m\u001b[38;5;28;01mFalse\u001b[39;00m))\n",
      "File \u001b[0;32m/opt/homebrew/lib/python3.9/site-packages/numpy/linalg/linalg.py:89\u001b[0m, in \u001b[0;36m_raise_linalgerror_singular\u001b[0;34m(err, flag)\u001b[0m\n\u001b[1;32m     88\u001b[0m \u001b[38;5;28;01mdef\u001b[39;00m \u001b[38;5;21m_raise_linalgerror_singular\u001b[39m(err, flag):\n\u001b[0;32m---> 89\u001b[0m     \u001b[38;5;28;01mraise\u001b[39;00m LinAlgError(\u001b[38;5;124m\"\u001b[39m\u001b[38;5;124mSingular matrix\u001b[39m\u001b[38;5;124m\"\u001b[39m)\n",
      "\u001b[0;31mLinAlgError\u001b[0m: Singular matrix"
     ]
    }
   ],
   "source": [
    "delta = 1e-16\n",
    "A = np.array([[1, 2], [2, 4+delta]], float)\n",
    "print(A)\n",
    "v = np.array([3, 5], float)\n",
    "np.linalg.solve(A, v)  # Devuelve un error si delta / 4 < precisión de máquina"
   ]
  },
  {
   "cell_type": "markdown",
   "metadata": {},
   "source": [
    "# Descomposición matricial: Descomposición QR para problemas de autovalores\n",
    "\n",
    "En este caso, queremos obtener la solución al problema\n",
    "$$\n",
    "Av = \\lambda v,\n",
    "$$\n",
    "donde los $v$ son los autovectores de $A$ con autovalores $\\lambda$. El problema de autovalores es de suma importancia en la Física, en especial en la rama de la Física Cuántica.\n",
    "\n",
    "De la misma forma, el problema se puede expresar como \n",
    "$$AV = V\\Lambda,$$\n",
    "con $V$ una matriz compuesta por los autovectores ortonormales y $\\Lambda$ una matrix diagonal compuesta de los autovalores correspondientes.\n",
    "\n",
    "Si la matriz $A$ es **simétrica real o Hermítica**, podemos resolver este problema con una descomposición QR. Los detalles de la siguiente derivación no son tan importantes. Basta con saber que el método es iterativo y no funciona para matrices que no sean simétricas reales o Hermíticas. Para estos casos, se deben realizar modificaciones al algoritmo.\n",
    "\n",
    "### Algoritmo QR\n",
    "\n",
    "* Comienza con aplicar el procedimiento de Gram-Schmidt sobre las columnas de A, el cual resulta en una matriz cuyas columnas conforman una base ortonormal a la cual llamamos $Q$\n",
    "* Denotamos la descomposición como $QR$, tal que $A = QR$ con $R$ una matrix triangular superior\n",
    "* Dado que Q es ortonormal $\\Rightarrow\\ Q^TQ=I\\ \\Rightarrow\\ R = Q^TA$\n",
    "* Realizamos la siguiente iteración:\n",
    "  - $A = Q_1 R_1 \\implies Q_1^T A = Q_1^T Q_1 R_1 = R_1$ --------------> Definimos $A_1$\n",
    "  - $A_1 = R_1 Q_1 = Q_1^T A Q_1$ ------------------------------------>  Descomposición QR de $A_1$\n",
    "  - $A_2 = R_2 Q_2 = Q_2^T A_1 Q_2 = \\underbrace{Q_2^T\\underbrace{Q_1^TA}_{R_1}Q_1}_{R_2}Q_2$ ------------> Definimos $A_2$\n",
    "  - $A_2 = Q_2R_2$ --------------------------------------------------> Descomposición QR de $A_2$\n",
    "  - $A_3 = \\dots$ \n",
    "El procedimiento sigue iterando hasta obtener $A_k$, donde\n",
    "$$\n",
    "A_k = (Q_k^T \\cdots Q_1^T) A (Q_1 \\cdots Q_k).\n",
    "$$\n",
    "Se puede demostrar que para un valor de $k$ lo suficientemente grande, la matrix $A_k$ se convierte en una matrix diagonal. \n",
    "\n",
    "### Algoritmo QR en práctica\n",
    "\n",
    "La mejor forma de aplicar el algoritmo QR es utilizando una biblioteca que optimiza el procedimiento de Gram-Schmidt y las multiplicaciones de las matrices.\n",
    "\n",
    "`NumPy` contiene una aplicación relativamente eficiente de este algoritmo, aunque una de las versiones más óptimas al día de hoy forma parte de las bibliotecas para desarrolladores dentro de `Intel MKL`.\n",
    "\n",
    "Aplicarlo en `NumPy` es muy sencillo:"
   ]
  },
  {
   "cell_type": "code",
   "execution_count": 8,
   "metadata": {},
   "outputs": [
    {
     "name": "stdout",
     "output_type": "stream",
     "text": [
      "A:\n",
      " [[2 1]\n",
      " [1 2]]\n",
      "\n",
      "Autovalores:  [1. 3.]\n",
      "Autovectores:\n",
      " [[-0.70710678  0.70710678]\n",
      " [ 0.70710678  0.70710678]]\n",
      "\n",
      "AV:\n",
      " [[-0.70710678  2.12132034]\n",
      " [ 0.70710678  2.12132034]]\n",
      "VL:\n",
      " [[-0.70710678  2.12132034]\n",
      " [ 0.70710678  2.12132034]]\n"
     ]
    }
   ],
   "source": [
    "A = np.array([[2, 1], [1, 2]])\n",
    "\n",
    "print('A:\\n', A)\n",
    "\n",
    "eig_vs, V = np.linalg.eigh(A)  # autovalores, autovectores\n",
    "L = np.diag(eig_vs)  # np.diag construye un arreglo diagonal\n",
    "\n",
    "print('\\nAutovalores: ', eig_vs)\n",
    "print('Autovectores:\\n', V)\n",
    "\n",
    "# Esperamos que AV = VD\n",
    "print('\\nAV:\\n', np.dot(A, V))\n",
    "print('VL:\\n', np.dot(V, L))"
   ]
  },
  {
   "cell_type": "markdown",
   "metadata": {},
   "source": [
    "#### Limitación del algoritmo QR\n",
    "\n",
    "El método *np.linalg.eigh* solo se puede aplicar para matrices simétricas reales o Hermíticas.\n",
    "Por ejemplo, para la matriz\n",
    "$$ A =\n",
    "\\begin{bmatrix}\n",
    "2 & 3 \\\\\n",
    "1 & 2\n",
    "\\end{bmatrix}$$"
   ]
  },
  {
   "cell_type": "code",
   "execution_count": 9,
   "metadata": {},
   "outputs": [
    {
     "name": "stdout",
     "output_type": "stream",
     "text": [
      "AV:\n",
      " [[0.70710678 3.53553391]\n",
      " [0.70710678 2.12132034]]\n",
      "VL:\n",
      " [[-0.70710678  2.12132034]\n",
      " [ 0.70710678  2.12132034]]\n"
     ]
    }
   ],
   "source": [
    "A = np.array([[2,3],[1,2]])\n",
    "eig_vs, V = np.linalg.eigh(A)\n",
    "L = np.diag(eig_vs)\n",
    "\n",
    "print('AV:\\n', np.dot(A, V))\n",
    "print('VL:\\n', np.dot(V, L)) "
   ]
  },
  {
   "cell_type": "markdown",
   "metadata": {},
   "source": [
    "Note que $AV \\neq \\Lambda V$, de manera tal que el algoritmo QR introducido anteriormente falla en capturar los autovalores y autovectores de una matriz que no es simétrica.\n",
    "\n",
    "Para evaluar la autodescomposición de una matrix no simétrica o no Hermítica, el procedimiento se debe modificar dando lugar a un algoritmo menos eficiente.\n",
    "\n",
    "`NumPy` ya incluye implementaciones para este tipo de problemas, e.g.,:"
   ]
  },
  {
   "cell_type": "code",
   "execution_count": 10,
   "metadata": {},
   "outputs": [
    {
     "name": "stdout",
     "output_type": "stream",
     "text": [
      "AV:\n",
      " [[ 3.23205081 -0.23205081]\n",
      " [ 1.8660254   0.1339746 ]]\n",
      "VL:\n",
      " [[ 3.23205081 -0.23205081]\n",
      " [ 1.8660254   0.1339746 ]]\n"
     ]
    }
   ],
   "source": [
    "A = np.array([[2,3],[1,2]])\n",
    "eig_vs, V = np.linalg.eig(A) # calculate eigenvalues & eigenvectors\n",
    "L = np.diag(eig_vs)  # np.diag constructs a diagonal array\n",
    "\n",
    "print('AV:\\n', np.dot(A, V))\n",
    "print('VL:\\n', np.dot(V, L)) "
   ]
  },
  {
   "cell_type": "markdown",
   "metadata": {},
   "source": [
    "# Laboratorio\n",
    "\n",
    "<div>\n",
    "<img src=\"Fig1.png\" width=\"500\"/>\n",
    "</div>\n",
    "\n",
    "Considere el sistema de $N$ masas idénticas acopladas mediante resortes lineales como en el diagram anterior. Ignoramos efectos gravitacionales por simplicidad. Las vibraciones observadas en un sistema como este forman un modelo de las vibraciones elementales observadas en sólidos. Vamos a estudiar los modos de oscilación horizontales.\n",
    "\n",
    "Denotamos como $a_i$ al desplazamiento de la masa $i$ relativo con su posición de equilibrio. Las ecuaciones de movimiento en este caso están dadas por la segunda ley de Newton:\n",
    "$$\n",
    "m \\frac{{\\rm d}^2 a_i}{{\\rm d}t^2} = k(a_{i+1} - a_i) + k(a_{i-1} - a_i) + F_i,\n",
    "$$\n",
    "donde $m$ es la masa y $k$ la constante del resorte. Estas ecuaciones aplican para todas las masas excepto las masas en los extremos, para las cuales tenemos\n",
    "$$\n",
    "m \\frac{{\\rm d}^2 a_1}{{\\rm d}t^2} = k(a_2 - a_1) + F_1,\n",
    "$$\n",
    "para la primera masa y \n",
    "$$\n",
    "m \\frac{{\\rm d}^2 a_N}{{\\rm d}t^2} = k(a_{N-1} - a_N) + F_N,\n",
    "$$\n",
    "para la última. Supongamos que introducimos una fuerza a la primera masa de la forma $F1 = Ce^{i\\omega t}$, donde $C$ es constante. Este tipo de fuerza se justifica en modelos sencillos de sólidos dado que usualmente en estos sistemas tenemos fuerzas que salen como resultado de cargas interactuando con campos electromagnéticos. \n",
    "\n",
    "El resultado es que los \"átomos\" van a oscilar de alguna forma con frecuencia angular $\\omega$, de manera tal que la solución de los desplazamientos de los átomos toma la forma\n",
    "$$\n",
    "a_i(t) = x_i e^{i \\omega t}\n",
    "$$\n",
    "para todo $i$. La magnitud de $x_i$ controla la amplitud de vibración y su fase controla la fase de la vibración con respecto a la fuerza externa. Sustituyendo la solución en las ecuaciones diferenciales obtenemos \n",
    "\\begin{align}\n",
    "(\\alpha - k)x_1 - kx_2 &= C \\\\\n",
    "\\alpha x_i - k x_{i-1} - k x_{i+1} &= 0 \\\\\n",
    "(\\alpha - k) x_N - k x_{N-1} &= 0,\n",
    "\\end{align}\n",
    "donde $\\alpha = 2k - m\\omega^2$.\n",
    "\n",
    "Este sistema se puede escribir de la forma $Ax = b$. \n",
    "\n",
    "Escriba una rutina que devuelve la matrix $A$ para este problema: "
   ]
  },
  {
   "cell_type": "code",
   "execution_count": 57,
   "metadata": {},
   "outputs": [
    {
     "name": "stdout",
     "output_type": "stream",
     "text": [
      "[ 1.41948811  0.30649604 -1.01082673 -1.65426501 -1.19485995  0.06111841\n",
      "  1.27635116  1.64068314  0.91122636 -0.42571466 -1.47884591 -1.54607988\n",
      " -0.58259394  0.76928797  1.60831123  1.375127    0.22519144 -1.07487175\n",
      " -1.65835377 -1.13626661  0.14333162  1.32737544  1.6265023   0.84129429\n",
      " -0.50477658 -1.51432973]\n"
     ]
    }
   ],
   "source": [
    "# Su código aquí\n",
    "import scipy.linalg\n",
    "import numpy as np\n",
    "from scipy.linalg import lu_factor, lu_solve\n",
    "\n",
    "def construir_matriz_A(N, alpha, k, C):\n",
    "\n",
    "    #Se inicializa la matriz como una matriz tridiagonal\n",
    "    A_matrix = np.zeros((N, N))\n",
    "    \n",
    "    #Se llena la diagonal principal\n",
    "    np.fill_diagonal(A_matrix, alpha)\n",
    "    \n",
    "    #Se llenan las diagonales superior e inferior\n",
    "    np.fill_diagonal(A_matrix[1:], -k)  # Diagonal inferior\n",
    "    np.fill_diagonal(A_matrix[:, 1:], -k)  # Diagonal superior\n",
    "    \n",
    "    #Ajustar las condiciones de frontera\n",
    "    A_matrix[0, 0] = alpha - k  # Primera fila (frontera izquierda)\n",
    "    A_matrix[-1, -1] = alpha - k  # Última fila (frontera derecha)\n",
    "\n",
    "    b_vector = np.zeros(N) #Construye el vector b\n",
    "    b_vector[0] = C\n",
    "    \n",
    "    return A_matrix, b_vector\n",
    "\n",
    "def Solution(A,b):\n",
    "    return scipy.linalg.lu_solve(scipy.linalg.lu_factor(A), b)\n",
    "\n",
    "N = 26\n",
    "C = 1 \n",
    "m = 1\n",
    "w = 2\n",
    "k = 6\n",
    "α = 2*k - m * (w**2)\n",
    "\n",
    "A, b = construir_matriz_A(N, α, k, C)\n",
    "x_vector = Solution(A,b)\n",
    "print(x_vector)"
   ]
  },
  {
   "cell_type": "markdown",
   "metadata": {},
   "source": [
    "Considere el caso: $N = 26$, $C = 1$, $m = 1$, $k = 6$ y $\\omega = 2$. Utilice el método `gausselim` para hacer un gráfico de las amplitudes de oscilación de cada masa en el sistema."
   ]
  },
  {
   "cell_type": "code",
   "execution_count": 58,
   "metadata": {},
   "outputs": [
    {
     "data": {
      "image/png": "[encoded data removed]",
      "text/plain": [
       "<Figure size 640x480 with 1 Axes>"
      ]
     },
     "metadata": {},
     "output_type": "display_data"
    },
    {
     "name": "stdout",
     "output_type": "stream",
     "text": [
      "[ 35.5484114   11.61288911 -20.11564192 -38.26527389 -30.62901243\n",
      "  -2.37426602  27.453138    38.76572482  23.96104791  -6.969532\n",
      " -33.1828048  -37.02773342 -15.92982644  15.88506382  36.98169687\n",
      "  33.15581347   6.99686659 -23.86418993 -38.6366412  -27.37493938\n",
      "   2.3260998   30.45251717  38.05602719  20.0177687  -11.50588464\n",
      " -35.27481879]\n"
     ]
    }
   ],
   "source": [
    "# Su código aquí\n",
    "import matplotlib.pyplot as plt\n",
    "\n",
    "steps = 26\n",
    "t = np.linspace(0,1000,steps)\n",
    "for i in range(steps -1):\n",
    "    Amp_sol = gausselim(A,x_vector)\n",
    "    plt.plot(Amp_sol[i],x_vector[i])\n",
    "plt.grid()\n",
    "plt.show()\n",
    "print(Amp_sol)"
   ]
  },
  {
   "cell_type": "markdown",
   "metadata": {},
   "source": [
    "El método `gausselim` es sumamente ineficiente para este problema, dado que la matriz es tridiagonal. Utilice el método `solve_banded` de `SciPy` para encontrar la solución"
   ]
  },
  {
   "cell_type": "code",
   "execution_count": 13,
   "metadata": {},
   "outputs": [],
   "source": [
    "# Su código aquí"
   ]
  }
 ],
 "metadata": {
  "anaconda-cloud": {},
  "kernelspec": {
   "display_name": "Python 3",
   "language": "python",
   "name": "python3"
  },
  "language_info": {
   "codemirror_mode": {
    "name": "ipython",
    "version": 3
   },
   "file_extension": ".py",
   "mimetype": "text/x-python",
   "name": "python",
   "nbconvert_exporter": "python",
   "pygments_lexer": "ipython3",
   "version": "3.12.3"
  }
 },
 "nbformat": 4,
 "nbformat_minor": 1
}
